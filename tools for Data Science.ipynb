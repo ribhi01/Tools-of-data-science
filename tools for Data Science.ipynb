{
  "metadata": {
    "language_info": {
      "codemirror_mode": {
        "name": "python",
        "version": 3
      },
      "file_extension": ".py",
      "mimetype": "text/x-python",
      "name": "python",
      "nbconvert_exporter": "python",
      "pygments_lexer": "ipython3",
      "version": "3.8"
    },
    "kernelspec": {
      "name": "python",
      "display_name": "Pyolite",
      "language": "python"
    }
  },
  "nbformat_minor": 4,
  "nbformat": 4,
  "cells": [
    {
      "cell_type": "markdown",
      "source": "# Markdown",
      "metadata": {}
    },
    {
      "cell_type": "markdown",
      "source": "## Introduction of Data Science Tools:-",
      "metadata": {}
    },
    {
      "cell_type": "markdown",
      "source": "### Data Science language:-",
      "metadata": {}
    },
    {
      "cell_type": "markdown",
      "source": "1. Python\n2. R\n3. julia\n4. SQl\n5. Scala\n6. Java\n7. Mongodb ",
      "metadata": {}
    },
    {
      "cell_type": "markdown",
      "source": "### Data Science libries: -",
      "metadata": {}
    },
    {
      "cell_type": "markdown",
      "source": "1. Panda\n2. Numpy\n3. Scipy\n4. Matplotlib\n5. Scikit-Learn\n6. GGplot\n7. dyplr",
      "metadata": {}
    },
    {
      "cell_type": "markdown",
      "source": "| Data Science |\n| ------------ |\n| Jupyter Notebook |\n| Rstudio |\n| Tableau |\n| Watson Studio |\n| Anaconda |\n| VS Code |",
      "metadata": {}
    },
    {
      "cell_type": "markdown",
      "source": "# Arithmetic Expression",
      "metadata": {}
    },
    {
      "cell_type": "markdown",
      "source": "#### In this expression, we are adding, subtracting and multiply the numeric values.",
      "metadata": {}
    },
    {
      "cell_type": "markdown",
      "source": "##### For example",
      "metadata": {}
    },
    {
      "cell_type": "code",
      "source": "2+2",
      "metadata": {
        "trusted": true
      },
      "execution_count": 1,
      "outputs": [
        {
          "execution_count": 1,
          "output_type": "execute_result",
          "data": {
            "text/plain": "4"
          },
          "metadata": {}
        }
      ]
    },
    {
      "cell_type": "code",
      "source": "(60+70)*80",
      "metadata": {
        "trusted": true
      },
      "execution_count": 2,
      "outputs": [
        {
          "execution_count": 2,
          "output_type": "execute_result",
          "data": {
            "text/plain": "10400"
          },
          "metadata": {}
        }
      ]
    },
    {
      "cell_type": "markdown",
      "source": "# CODE",
      "metadata": {}
    },
    {
      "cell_type": "code",
      "source": "min = 140\nhours = min// 60\nmins = min %60\nprint( hours,mins)",
      "metadata": {
        "trusted": true
      },
      "execution_count": 10,
      "outputs": [
        {
          "name": "stdout",
          "text": "2 20\n",
          "output_type": "stream"
        }
      ]
    },
    {
      "cell_type": "markdown",
      "source": "### Unorderd List",
      "metadata": {}
    },
    {
      "cell_type": "markdown",
      "source": "in Python, we used (-) to crete an unordered list.",
      "metadata": {}
    },
    {
      "cell_type": "markdown",
      "source": "- Data\n  - structure \n  - unstructured \n  - semi-structure \n\n- Big Data\n   - Hadoop",
      "metadata": {}
    },
    {
      "cell_type": "markdown",
      "source": "# Author",
      "metadata": {}
    },
    {
      "cell_type": "markdown",
      "source": "Ribhika\nGithubi'd:- @ribhi01",
      "metadata": {}
    },
    {
      "cell_type": "code",
      "source": "",
      "metadata": {},
      "execution_count": null,
      "outputs": []
    }
  ]
}