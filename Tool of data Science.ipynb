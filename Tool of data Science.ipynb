{
  "metadata": {
    "language_info": {
      "codemirror_mode": {
        "name": "python",
        "version": 3
      },
      "file_extension": ".py",
      "mimetype": "text/x-python",
      "name": "python",
      "nbconvert_exporter": "python",
      "pygments_lexer": "ipython3",
      "version": "3.8"
    },
    "kernelspec": {
      "name": "python",
      "display_name": "Pyolite",
      "language": "python"
    }
  },
  "nbformat_minor": 4,
  "nbformat": 4,
  "cells": [
    {
      "cell_type": "markdown",
      "source": "# Data Science",
      "metadata": {}
    },
    {
      "cell_type": "markdown",
      "source": "#### Intoduction\nwe are summering the Data Science Tools.",
      "metadata": {}
    },
    {
      "cell_type": "markdown",
      "source": "### There are many languages used in data Science. Here they are:-\n1. Python\n2. R\n3. julia\n4. SQl\n5. Scala\n6. Java\n7. Mongodb ",
      "metadata": {}
    },
    {
      "cell_type": "markdown",
      "source": "### There are many libraries used in data Science. Here they are:-\n1. Panda\n2. Numpy\n3. Scipy\n4. Matplotlib\n5. Scikit-Learn\n6. GGplot\n7. dyplr",
      "metadata": {}
    },
    {
      "cell_type": "markdown",
      "source": "| Data Science |\n| ------------ |\n| Jupyter Notebook |\n| Rstudio |\n| Tableau |\n| Watson Studio |\n| Anaconda |\n| VS Code |",
      "metadata": {}
    },
    {
      "cell_type": "markdown",
      "source": "### Arithmetic Expression\n#### we are adding, subtracting and multiply the numeric values.\n##### For example",
      "metadata": {}
    },
    {
      "cell_type": "code",
      "source": "22+34",
      "metadata": {
        "trusted": true
      },
      "execution_count": 2,
      "outputs": [
        {
          "execution_count": 2,
          "output_type": "execute_result",
          "data": {
            "text/plain": "56"
          },
          "metadata": {}
        }
      ]
    },
    {
      "cell_type": "code",
      "source": "### in this expression we add and multiply values\n(22*23)+5",
      "metadata": {
        "trusted": true
      },
      "execution_count": 3,
      "outputs": [
        {
          "execution_count": 3,
          "output_type": "execute_result",
          "data": {
            "text/plain": "511"
          },
          "metadata": {}
        }
      ]
    },
    {
      "cell_type": "markdown",
      "source": "# Code",
      "metadata": {}
    },
    {
      "cell_type": "markdown",
      "source": "### in this code, we convert min to hrs",
      "metadata": {}
    },
    {
      "cell_type": "code",
      "source": "min = 140\nhours = min// 60\nmins = min %60\nprint( hours,'hrs',mins,'min')",
      "metadata": {
        "trusted": true
      },
      "execution_count": 9,
      "outputs": [
        {
          "name": "stdout",
          "text": "2 hrs 20 min\n",
          "output_type": "stream"
        }
      ]
    },
    {
      "cell_type": "markdown",
      "source": "***Objective***\n- Data\n  - structure \n  - unstructured \n  - semi-structure \n\n- Big Data\n   - Hadoop",
      "metadata": {}
    },
    {
      "cell_type": "markdown",
      "source": "# Author\n***Ribhika***",
      "metadata": {}
    },
    {
      "cell_type": "code",
      "source": "",
      "metadata": {},
      "execution_count": null,
      "outputs": []
    }
  ]
}