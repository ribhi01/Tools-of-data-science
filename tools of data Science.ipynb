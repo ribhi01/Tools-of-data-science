{
  "metadata": {
    "language_info": {
      "codemirror_mode": {
        "name": "python",
        "version": 3
      },
      "file_extension": ".py",
      "mimetype": "text/x-python",
      "name": "python",
      "nbconvert_exporter": "python",
      "pygments_lexer": "ipython3",
      "version": "3.8"
    },
    "kernelspec": {
      "name": "python",
      "display_name": "Pyolite",
      "language": "python"
    }
  },
  "nbformat_minor": 4,
  "nbformat": 4,
  "cells": [
    {
      "cell_type": "markdown",
      "source": "# This is a Markdown title",
      "metadata": {}
    },
    {
      "cell_type": "markdown",
      "source": "## Markdown is a very versatile language, and it can be used to create a variety of different types of documents. It is a great choice for people who want to create formatted text without having to learn a complex markup language.",
      "metadata": {}
    },
    {
      "cell_type": "markdown",
      "source": "#### Data science languages are programming languages that are specifically designed for data science tasks. They are typically used to manipulate and analyze data, build machine learning models, and create data visualizations.\n1. Python\n2. R\n3. Julia\n4. SQL\n5. Scala\n6. SAS",
      "metadata": {}
    },
    {
      "cell_type": "markdown",
      "source": "### some of the most popular data science libraries:\n1. Pandas\n2. Numpy\n3. Scipy\n4. Matplotlib\n5. Scikit-Learn",
      "metadata": {}
    },
    {
      "cell_type": "markdown",
      "source": "#### some of the most popular data science tools:\n1. Jupyter Notebook\n2. RStudio\n3. Tableau\n4. Watson Studio\n5. IBM SPSS Modeler",
      "metadata": {}
    },
    {
      "cell_type": "markdown",
      "source": "## Arithmetic expression\n### An arithmetic expression is a mathematical expression that uses numbers, variables, and arithmetic operators to represent a mathematical operation. The results of these expressions are always numeric values.",
      "metadata": {}
    },
    {
      "cell_type": "code",
      "source": "2+2",
      "metadata": {
        "trusted": true
      },
      "execution_count": 1,
      "outputs": [
        {
          "execution_count": 1,
          "output_type": "execute_result",
          "data": {
            "text/plain": "4"
          },
          "metadata": {}
        }
      ]
    },
    {
      "cell_type": "code",
      "source": "(20+45)*80",
      "metadata": {
        "trusted": true
      },
      "execution_count": 2,
      "outputs": [
        {
          "execution_count": 2,
          "output_type": "execute_result",
          "data": {
            "text/plain": "5200"
          },
          "metadata": {}
        }
      ]
    },
    {
      "cell_type": "markdown",
      "source": "## Convert min into hours",
      "metadata": {}
    },
    {
      "cell_type": "code",
      "source": "def convert_min_into_hours(min):\n    hours = min // 60\n    minutes_remainder = min % 60\n    return hours, minutes_remainder\n\nif __name__ == \"__main__\":\n  min = 140\n  hours, minutes_remainder = convert_min_into_hours(min)\n  print(f\"{min} minutes is equal to {hours} hours and {minutes_remainder} minutes.\")",
      "metadata": {
        "trusted": true
      },
      "execution_count": 5,
      "outputs": [
        {
          "name": "stdout",
          "text": "140 minutes is equal to 2 hours and 20 minutes.\n",
          "output_type": "stream"
        }
      ]
    },
    {
      "cell_type": "markdown",
      "source": "# Cell insertion\n\n.In Markdown, you can insert a new cell by typing three hyphens (---) on a new line.\n.This will create a new, blank cell.\n.You can also insert a cell with pre-formatted text by typing four spaces before the text.\n.This will create a new cell with the text formatted as code.\n\n# Unordered list\n\n.In Markdown, you can create an unordered list by starting a line with a dash (-) followed by a space.\n.You can then add items to the list by typing the item on the same line, followed by a comma and a space.",
      "metadata": {}
    },
    {
      "cell_type": "markdown",
      "source": "item 1\nitem 2\nitem 3\nitem 4\nitem 5",
      "metadata": {}
    },
    {
      "cell_type": "markdown",
      "source": "- Item 1\n  - Item 1.1\n  - Item 1.2\n- Item 2\n",
      "metadata": {}
    },
    {
      "cell_type": "markdown",
      "source": "# BY Ribhika",
      "metadata": {}
    }
  ]
}